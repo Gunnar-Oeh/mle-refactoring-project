{
 "cells": [
  {
   "cell_type": "code",
   "execution_count": null,
   "metadata": {},
   "outputs": [],
   "source": [
    "# Basic imports\n",
    "import pandas as pd\n",
    "import numpy as np\n",
    "\n",
    "# Machine Learning libraries\n",
    "from sklearn.model_selection import train_test_split\n",
    "\n",
    "# Loading of the dataset via pandas\n",
    "kc_data = pd.read_csv(\"data/King_County_House_prices_dataset.csv\")"
   ]
  },
  {
   "cell_type": "code",
   "execution_count": null,
   "metadata": {},
   "outputs": [],
   "source": [
    "### Data Cleaning\n",
    "\n",
    "# We will drop this row\n",
    "kc_data.drop(15856, axis=0, inplace=True)\n",
    "\n",
    "# We are calculating the \"sqft_basement\" by substracting sqft_above of sqft_living\n",
    "kc_data.eval('sqft_basement = sqft_living - sqft_above', inplace=True)\n",
    "\n",
    "\n",
    "\n",
    "# Summation of the missing values and calculation of the missing values as a percentage\n",
    "missing_values = pd.DataFrame(kc_data.isnull().sum(),columns=['count'])\n",
    "missing_values['percentage'] = (missing_values['count']/kc_data.shape[0]*100).round(2)\n",
    "missing_values.query('count != 0')\n",
    "\n",
    "\n",
    "\n",
    "# We replace Nan values in \"view\" with the most frequent expression (0)\n",
    "kc_data['view'].fillna(0, inplace=True)\n",
    "\n",
    "# We display how often the different values of the variable occur.\n",
    "kc_data.waterfront.value_counts()\n",
    "\n",
    "# We replace Nan values in \"waterfront\" with the most frequent expression (0)\n",
    "kc_data.waterfront.fillna(0, inplace=True)\n",
    "\n",
    "\n",
    "\n",
    "# We will create an empty list in which we will store values\n",
    "last_known_change = []\n",
    "\n",
    "# For each row in our data frame, we look at what is in the column \"yr_renovated\".\n",
    "for idx, yr_re in kc_data.yr_renovated.iteritems():\n",
    "    # if \"yr_renovated\" is 0 or contains no value, we store the year of construction of the house in our empty listes ab\n",
    "    if str(yr_re) == 'nan' or yr_re == 0.0:\n",
    "        last_known_change.append(kc_data.yr_built[idx])\n",
    "    # if there is a value other than 0 in the column \"yr_renovated\", we transfer this value into our new list\n",
    "    else:\n",
    "        last_known_change.append(int(yr_re))\n",
    "\n",
    "# We create a new column and take over the values of our previously created list\n",
    "kc_data['last_known_change'] = last_known_change\n",
    "\n",
    "# We delete the \"yr_renovated\" and \"yr_built\" columns\n",
    "kc_data.drop(\"yr_renovated\", axis=1, inplace=True)\n",
    "kc_data.drop(\"yr_built\", axis=1, inplace=True)"
   ]
  },
  {
   "cell_type": "code",
   "execution_count": null,
   "metadata": {},
   "outputs": [],
   "source": [
    "### Feature Engineering\n",
    "### price per sqft\n",
    "kc_data['sqft_price'] = (kc_data.price/(kc_data.sqft_living + kc_data.sqft_lot)).round(2)"
   ]
  },
  {
   "cell_type": "code",
   "execution_count": null,
   "metadata": {},
   "outputs": [],
   "source": [
    "### Distance to the center of wealth\n",
    "kc_data[kc_data['sqft_price']==kc_data['sqft_price'].max()]\n",
    "\n",
    "kc_data[kc_data['price']==kc_data['price'].max()]\n",
    "\n",
    "# Absolute difference of latitude between centre and property\n",
    "kc_data['delta_lat'] = np.absolute(47.62774- kc_data['lat'])\n",
    "# Absolute difference of longitude between centre and property\n",
    "kc_data['delta_long'] = np.absolute(-122.24194-kc_data['long'])\n",
    "# Distance between centre and property\n",
    "kc_data['center_distance']= ((kc_data['delta_long']* np.cos(np.radians(47.6219)))**2 \n",
    "                                   + kc_data['delta_lat']**2)**(1/2)*2*np.pi*6378/360"
   ]
  },
  {
   "cell_type": "code",
   "execution_count": null,
   "metadata": {},
   "outputs": [],
   "source": [
    "# This function helps us to calculate the distance between the house overlooking the seafront and the other houses.\n",
    "def dist(long, lat, ref_long, ref_lat):\n",
    "    '''dist computes the distance in km to a reference location. Input: long and lat of \n",
    "    the location of interest and ref_long and ref_lat as the long and lat of the reference location'''\n",
    "    delta_long = long - ref_long\n",
    "    delta_lat = lat - ref_lat\n",
    "    delta_long_corr = delta_long * np.cos(np.radians(ref_lat))\n",
    "    return ((delta_long_corr)**2 +(delta_lat)**2)**(1/2)*2*np.pi*6378/360\n",
    "\n",
    "# All houses with \"waterfront\" are added to the list\n",
    "water_list= kc_data.query('waterfront == 1')\n",
    "water_list.head()\n",
    "\n",
    "water_distance = []\n",
    "# For each row in our data frame we now calculate the distance to the seafront\n",
    "for idx, lat in kc_data.lat.iteritems():\n",
    "    ref_list = []\n",
    "    for x,y in zip(list(water_list.long), list(water_list.lat)):\n",
    "        ref_list.append(dist(kc_data.long[idx], kc_data.lat[idx],x,y).min())\n",
    "    water_distance.append(min(ref_list))\n",
    "\n",
    "# wir erstellen eine neue Spalte und übernehmen die Werte unserer vorher erstellten Liste\n",
    "kc_data['water_distance'] = water_distance\n",
    "\n"
   ]
  },
  {
   "cell_type": "code",
   "execution_count": null,
   "metadata": {},
   "outputs": [],
   "source": [
    "### Modelling preparation\n",
    "# We have to remove these columns because of Data Leakage: price or because they do not provide prognostic information.\n",
    "drop_lst = ['price', 'sqft_price', 'date', 'delta_lat', 'delta_long',]\n",
    "\n",
    "# we would like to consider all variables except the ones mentioned above\n",
    "all_features = [x for x in kc_data.columns if x not in drop_lst]\n",
    "\n",
    "# X contains all descriptive variables defined above\n",
    "X = kc_data[all_features]\n",
    "\n",
    "# we define y (our dependent variable): we take the price\n",
    "y = kc_data.price\n",
    "\n",
    "### Move this to the front!\n",
    "# We separate our data into train and test data. In the process, 30 % of the data is used for the subsequent testing of the prognostic quality.\n",
    "X_train, X_test, y_train, y_test = train_test_split(X, y, test_size=0.3, random_state=42)\n",
    "\n",
    "\n"
   ]
  }
 ],
 "metadata": {
  "kernelspec": {
   "display_name": "Python 3.9.8 ('.venv': venv)",
   "language": "python",
   "name": "python3"
  },
  "language_info": {
   "codemirror_mode": {
    "name": "ipython",
    "version": 3
   },
   "file_extension": ".py",
   "mimetype": "text/x-python",
   "name": "python",
   "nbconvert_exporter": "python",
   "pygments_lexer": "ipython3",
   "version": "3.11.3"
  },
  "vscode": {
   "interpreter": {
    "hash": "fb7e7bd19e6b082abfa5136f7b755936d5cc9a5dcc8aebb1a765dc8cdd06fcd4"
   }
  }
 },
 "nbformat": 4,
 "nbformat_minor": 4
}
